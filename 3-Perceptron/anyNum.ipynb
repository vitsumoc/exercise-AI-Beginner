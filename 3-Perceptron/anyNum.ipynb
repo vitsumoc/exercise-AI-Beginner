{
 "cells": [
  {
   "cell_type": "markdown",
   "id": "51ac62eb-c9ae-444c-b5d2-406fe0c2a3e9",
   "metadata": {},
   "source": [
    "# 使用感知器识别所有数字"
   ]
  },
  {
   "cell_type": "markdown",
   "id": "3a186e4d-3771-48fe-b10a-188f86b0cb4f",
   "metadata": {},
   "source": [
    "## 加载数据"
   ]
  },
  {
   "cell_type": "code",
   "execution_count": 1,
   "id": "8281f36a-8f4e-45bf-913d-12a0a8fcc910",
   "metadata": {},
   "outputs": [],
   "source": [
    "import pylab\n",
    "import numpy as np\n",
    "import pickle\n",
    "from ipywidgets import interact, interactive, fixed\n",
    "import ipywidgets as widgets\n",
    "import os\n",
    "import gzip"
   ]
  },
  {
   "cell_type": "code",
   "execution_count": 2,
   "id": "9aa59b45-0ac9-4e13-9a23-7500679db72e",
   "metadata": {},
   "outputs": [],
   "source": [
    "np.random.seed(1)\n",
    "import random"
   ]
  },
  {
   "cell_type": "code",
   "execution_count": 3,
   "id": "ce529b1e-be49-425f-a45e-7d7c48a81f24",
   "metadata": {},
   "outputs": [],
   "source": [
    "# 解压并加载数据集\n",
    "with gzip.open('../data/mnist.pkl.gz', 'rb') as mnist_pickle:\n",
    "    u = pickle._Unpickler(mnist_pickle)\n",
    "    u.encoding = 'latin1'\n",
    "    MNIST = u.load()"
   ]
  },
  {
   "cell_type": "code",
   "execution_count": 4,
   "id": "251caf5e-ff09-43a8-ac03-7789d5ac7152",
   "metadata": {},
   "outputs": [],
   "source": [
    "# 所有灰度数据归一化\n",
    "features = MNIST['Train']['Features'].astype(np.float32) / 256.0\n",
    "# 所有的label\n",
    "labels = MNIST['Train']['Labels']"
   ]
  },
  {
   "cell_type": "markdown",
   "id": "29199030-373a-47ce-9346-b252cfa404e8",
   "metadata": {},
   "source": [
    "准备10组权重值，分别代表10个数字。\n",
    "10组权重值的训练方式都是，如果是对应的数字则视为 pos 非对应的数字视为 neg。"
   ]
  },
  {
   "cell_type": "code",
   "execution_count": 5,
   "id": "f3522a5c-bac6-47ce-ab7a-97faa9250dfb",
   "metadata": {},
   "outputs": [],
   "source": [
    "weightsList = []"
   ]
  },
  {
   "cell_type": "markdown",
   "id": "c059394e-685c-44a7-b8fd-91cc8d65582c",
   "metadata": {},
   "source": [
    "定义一个方法，可以将训练数据分类。"
   ]
  },
  {
   "cell_type": "code",
   "execution_count": 6,
   "id": "6dd0f2da-56b0-4d52-bbf6-3f2ea75b4330",
   "metadata": {},
   "outputs": [],
   "source": [
    "# 设置一个数字为 pos 其他所有数据都是 neg\n",
    "def set_mnist_pos_neg(positive_label):\n",
    "    # pos 和 neg 数据的序号\n",
    "    positive_indices = [i for i, j in enumerate(MNIST['Train']['Labels']) \n",
    "                          if j == positive_label]\n",
    "    negative_indices = [i for i, j in enumerate(MNIST['Train']['Labels']) \n",
    "                          if j != positive_label]\n",
    "    # pos 和 neg 数据的图像\n",
    "    positive_images = MNIST['Train']['Features'][positive_indices]\n",
    "    negative_images = MNIST['Train']['Features'][negative_indices]\n",
    "    \n",
    "    return positive_images, negative_images"
   ]
  },
  {
   "cell_type": "markdown",
   "id": "f76eed74-e5e2-4734-bc1b-eee2f7cfd9eb",
   "metadata": {},
   "source": [
    "定义训练方法"
   ]
  },
  {
   "cell_type": "code",
   "execution_count": 7,
   "id": "ee8ad87a-4eab-40e7-954d-52156ddd0b72",
   "metadata": {},
   "outputs": [],
   "source": [
    "# 训练方法\n",
    "def train_graph(positive_examples, negative_examples, num_iterations = 100):\n",
    "    # 数据维度, 此例是 28 * 28 = 784\n",
    "    num_dims = positive_examples.shape[1]\n",
    "    # 权重值 全0数组 shape = (784, 1)\n",
    "    weights = np.zeros((num_dims, 1)) # initialize weights\n",
    "\n",
    "    for i in range(num_iterations):\n",
    "        pos = random.choice(positive_examples)\n",
    "        neg = random.choice(negative_examples)\n",
    "\n",
    "        z = np.dot(pos, weights)   \n",
    "        if z < 0:\n",
    "            weights = weights + pos.reshape(weights.shape)\n",
    "\n",
    "        z  = np.dot(neg, weights)\n",
    "        if z >= 0:\n",
    "            weights = weights - neg.reshape(weights.shape)\n",
    "\n",
    "    return weights"
   ]
  },
  {
   "cell_type": "code",
   "execution_count": 8,
   "id": "f00326fa-0d9e-4b3c-8297-7fdf4e2c55ff",
   "metadata": {},
   "outputs": [],
   "source": [
    "# 将 10 个数字各训练1000次\n",
    "for x in range(10):\n",
    "    _pos, _neg = set_mnist_pos_neg(x)\n",
    "    weightsList.append(train_graph(_pos, _neg, num_iterations = 10000))"
   ]
  },
  {
   "cell_type": "code",
   "execution_count": 9,
   "id": "4cc3b67d-9e38-44a1-b4f8-6b8bf11cb020",
   "metadata": {},
   "outputs": [],
   "source": [
    "# 制作一个使用训练完的weight, 根据输入的图像来输出数字的函数\n",
    "def img2Num(img):\n",
    "    for x in range(10):\n",
    "        if np.dot(img, weightsList[x]) > 0:\n",
    "            return x\n",
    "    return 0"
   ]
  },
  {
   "cell_type": "code",
   "execution_count": 10,
   "id": "9a665f20-ab47-4a6a-a123-553c1d19c1f2",
   "metadata": {},
   "outputs": [],
   "source": [
    "# 进行若干次测试并统计正确率\n",
    "def test(count):\n",
    "    _len = len(features)\n",
    "    correct = 0.0\n",
    "    for x in range(count):\n",
    "        i = random.randint(0, _len - 1)\n",
    "        # 随机选取一副图像\n",
    "        img = features[i]\n",
    "        label = labels[i]\n",
    "        if img2Num(img) == label:\n",
    "            correct += 1\n",
    "    return correct / count"
   ]
  },
  {
   "cell_type": "markdown",
   "id": "9f6519bd-3375-453e-8680-f175bc70f040",
   "metadata": {},
   "source": [
    "查看训练结果"
   ]
  },
  {
   "cell_type": "code",
   "execution_count": 11,
   "id": "d96b3996-a214-4ce8-849e-1b7ae9dc2ca1",
   "metadata": {},
   "outputs": [
    {
     "name": "stdout",
     "output_type": "stream",
     "text": [
      "0.747\n"
     ]
    }
   ],
   "source": [
    "print(test(1000))"
   ]
  }
 ],
 "metadata": {
  "kernelspec": {
   "display_name": "Python 3 (ipykernel)",
   "language": "python",
   "name": "python3"
  },
  "language_info": {
   "codemirror_mode": {
    "name": "ipython",
    "version": 3
   },
   "file_extension": ".py",
   "mimetype": "text/x-python",
   "name": "python",
   "nbconvert_exporter": "python",
   "pygments_lexer": "ipython3",
   "version": "3.11.6"
  }
 },
 "nbformat": 4,
 "nbformat_minor": 5
}
